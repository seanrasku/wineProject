{
 "cells": [
  {
   "cell_type": "code",
   "execution_count": 9,
   "id": "6e3762e7",
   "metadata": {},
   "outputs": [
    {
     "name": "stdout",
     "output_type": "stream",
     "text": [
      "[5. 5. 5. ... 6. 7. 6.]\n"
     ]
    }
   ],
   "source": [
    "import re\n",
    "import csv\n",
    "import numpy as np\n",
    "with open('winequality.csv') as csvfile:\n",
    "    f = csvfile.readlines()[1:]\n",
    "    arr = np.loadtxt(f, delimiter=',')\n",
    "data = np.array(arr)\n",
    "X = data[0:len(data), 0:-1]\n",
    "z = data[0:len(data), -1]\n",
    "y = z\n",
    "y[z <= 5] = 0\n",
    "y[z > 5] = 1\n",
    "print(y)"
   ]
  },
  {
   "cell_type": "code",
   "execution_count": 11,
   "id": "ce809861",
   "metadata": {},
   "outputs": [],
   "source": [
    "selection = np.random.permutation(X)"
   ]
  },
  {
   "cell_type": "markdown",
   "id": "021bcda0",
   "metadata": {},
   "source": []
  },
  {
   "cell_type": "code",
   "execution_count": 14,
   "id": "1e5419b6",
   "metadata": {},
   "outputs": [
    {
     "name": "stdout",
     "output_type": "stream",
     "text": [
      "[[ 6.1   0.24  0.26 ...  0.81 11.9   0.  ]\n",
      " [ 6.6   0.23  0.27 ...  0.76  9.5   0.  ]\n",
      " [ 9.9   0.63  0.24 ...  0.57  9.4   1.  ]\n",
      " ...\n",
      " [ 5.9   0.34  0.3  ...  0.34 12.    0.  ]\n",
      " [ 6.6   0.27  0.33 ...  0.46 10.7   0.  ]\n",
      " [ 6.6   0.15  0.34 ...  0.5  11.7   0.  ]]\n"
     ]
    }
   ],
   "source": [
    "from sklearn.datasets import make_classification\n",
    "from sklearn.ensemble import RandomForestClassifier\n",
    "from sklearn.model_selection import train_test_split\n",
    "import pandas as pd\n",
    "import numpy as np\n",
    "from sklearn.metrics import roc_curve\n",
    "import matplotlib.pyplot as plt\n",
    "\n",
    "X_train = selection[1:5200, :]\n",
    "X_test = selection[5201:len(selection), :]\n"
   ]
  },
  {
   "cell_type": "code",
   "execution_count": 16,
   "id": "ef54c816",
   "metadata": {},
   "outputs": [
    {
     "name": "stdout",
     "output_type": "stream",
     "text": [
      "[[ 6.1   0.24  0.26 ...  0.81 11.9   0.  ]\n",
      " [ 6.6   0.23  0.27 ...  0.76  9.5   0.  ]\n",
      " [ 9.9   0.63  0.24 ...  0.57  9.4   1.  ]\n",
      " ...\n",
      " [ 5.9   0.34  0.3  ...  0.34 12.    0.  ]\n",
      " [ 6.6   0.27  0.33 ...  0.46 10.7   0.  ]\n",
      " [ 6.6   0.15  0.34 ...  0.5  11.7   0.  ]]\n"
     ]
    }
   ],
   "source": [
    "print(X_train)"
   ]
  },
  {
   "cell_type": "code",
   "execution_count": null,
   "id": "336d1a96",
   "metadata": {},
   "outputs": [],
   "source": []
  },
  {
   "cell_type": "code",
   "execution_count": null,
   "id": "65967e93",
   "metadata": {},
   "outputs": [],
   "source": []
  },
  {
   "cell_type": "code",
   "execution_count": null,
   "id": "54120d1e",
   "metadata": {},
   "outputs": [],
   "source": []
  },
  {
   "cell_type": "code",
   "execution_count": null,
   "id": "72487e3a",
   "metadata": {},
   "outputs": [],
   "source": []
  }
 ],
 "metadata": {
  "kernelspec": {
   "display_name": "Python 3 (ipykernel)",
   "language": "python",
   "name": "python3"
  },
  "language_info": {
   "codemirror_mode": {
    "name": "ipython",
    "version": 3
   },
   "file_extension": ".py",
   "mimetype": "text/x-python",
   "name": "python",
   "nbconvert_exporter": "python",
   "pygments_lexer": "ipython3",
   "version": "3.8.5"
  }
 },
 "nbformat": 4,
 "nbformat_minor": 5
}
