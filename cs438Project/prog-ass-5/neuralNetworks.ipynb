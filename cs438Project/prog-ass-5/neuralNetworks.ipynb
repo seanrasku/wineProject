{
 "cells": [
  {
   "cell_type": "code",
   "execution_count": 34,
   "id": "74d3d176",
   "metadata": {},
   "outputs": [],
   "source": []
  },
  {
   "cell_type": "code",
   "execution_count": 35,
   "id": "0c8d7a7c",
   "metadata": {},
   "outputs": [
    {
     "name": "stdout",
     "output_type": "stream",
     "text": [
      "[[ 7.4   0.7   0.   ...  9.4   1.    5.  ]\n",
      " [ 7.8   0.88  0.   ...  9.8   1.    5.  ]\n",
      " [ 7.8   0.76  0.04 ...  9.8   1.    5.  ]\n",
      " ...\n",
      " [ 6.5   0.24  0.19 ...  9.4   0.    6.  ]\n",
      " [ 5.5   0.29  0.3  ... 12.8   0.    7.  ]\n",
      " [ 6.    0.21  0.38 ... 11.8   0.    6.  ]]\n"
     ]
    }
   ],
   "source": [
    "print(X)"
   ]
  },
  {
   "cell_type": "code",
   "execution_count": 36,
   "id": "8648cdc5",
   "metadata": {},
   "outputs": [
    {
     "data": {
      "text/plain": [
       "array([[ 7.4 ,  0.7 ,  0.  , ...,  9.4 ,  1.  ,  5.  ],\n",
       "       [ 7.8 ,  0.88,  0.  , ...,  9.8 ,  1.  ,  5.  ],\n",
       "       [ 7.8 ,  0.76,  0.04, ...,  9.8 ,  1.  ,  5.  ],\n",
       "       ...,\n",
       "       [ 6.5 ,  0.24,  0.19, ...,  9.4 ,  0.  ,  6.  ],\n",
       "       [ 5.5 ,  0.29,  0.3 , ..., 12.8 ,  0.  ,  7.  ],\n",
       "       [ 6.  ,  0.21,  0.38, ..., 11.8 ,  0.  ,  6.  ]])"
      ]
     },
     "execution_count": 36,
     "metadata": {},
     "output_type": "execute_result"
    }
   ],
   "source": [
    "X"
   ]
  },
  {
   "cell_type": "code",
   "execution_count": null,
   "id": "0b9e2868",
   "metadata": {},
   "outputs": [],
   "source": []
  },
  {
   "cell_type": "code",
   "execution_count": null,
   "id": "e7f1508b",
   "metadata": {},
   "outputs": [],
   "source": []
  },
  {
   "cell_type": "code",
   "execution_count": 23,
   "id": "7d006cab",
   "metadata": {},
   "outputs": [
    {
     "data": {
      "text/plain": [
       "matrix([[ 7.4 ,  0.7 ,  0.  , ...,  9.4 ,  1.  ,  5.  ],\n",
       "        [ 7.8 ,  0.88,  0.  , ...,  9.8 ,  1.  ,  5.  ],\n",
       "        [ 7.8 ,  0.76,  0.04, ...,  9.8 ,  1.  ,  5.  ],\n",
       "        ...,\n",
       "        [ 6.5 ,  0.24,  0.19, ...,  9.4 ,  0.  ,  6.  ],\n",
       "        [ 5.5 ,  0.29,  0.3 , ..., 12.8 ,  0.  ,  7.  ],\n",
       "        [ 6.  ,  0.21,  0.38, ..., 11.8 ,  0.  ,  6.  ]])"
      ]
     },
     "execution_count": 23,
     "metadata": {},
     "output_type": "execute_result"
    }
   ],
   "source": [
    "X"
   ]
  },
  {
   "cell_type": "code",
   "execution_count": 22,
   "id": "35a0fdf1",
   "metadata": {},
   "outputs": [
    {
     "data": {
      "text/plain": [
       "matrix([[ 7.4 ,  0.7 ,  0.  , ...,  9.4 ,  1.  ,  5.  ],\n",
       "        [ 7.8 ,  0.88,  0.  , ...,  9.8 ,  1.  ,  5.  ],\n",
       "        [ 7.8 ,  0.76,  0.04, ...,  9.8 ,  1.  ,  5.  ],\n",
       "        ...,\n",
       "        [ 6.5 ,  0.24,  0.19, ...,  9.4 ,  0.  ,  6.  ],\n",
       "        [ 5.5 ,  0.29,  0.3 , ..., 12.8 ,  0.  ,  7.  ],\n",
       "        [ 6.  ,  0.21,  0.38, ..., 11.8 ,  0.  ,  6.  ]])"
      ]
     },
     "execution_count": 22,
     "metadata": {},
     "output_type": "execute_result"
    }
   ],
   "source": [
    "X"
   ]
  },
  {
   "cell_type": "code",
   "execution_count": 31,
   "id": "ee89018d",
   "metadata": {},
   "outputs": [
    {
     "name": "stdout",
     "output_type": "stream",
     "text": [
      "0.88\n"
     ]
    }
   ],
   "source": [
    "print(X)"
   ]
  },
  {
   "cell_type": "code",
   "execution_count": null,
   "id": "2db324cb",
   "metadata": {},
   "outputs": [],
   "source": []
  },
  {
   "cell_type": "code",
   "execution_count": null,
   "id": "f3a901e3",
   "metadata": {},
   "outputs": [],
   "source": []
  }
 ],
 "metadata": {},
 "nbformat": 4,
 "nbformat_minor": 5
}
