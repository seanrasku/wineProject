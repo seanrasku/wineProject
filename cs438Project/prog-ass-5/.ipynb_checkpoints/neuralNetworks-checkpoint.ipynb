{
 "cells": [
  {
   "cell_type": "code",
   "execution_count": 32,
   "id": "7ec509ea",
   "metadata": {},
   "outputs": [],
   "source": [
    "import re\n",
    "import csv\n",
    "import numpy as np\n",
    "with open('winequality.csv') as csvfile:\n",
    "    f = csvfile.readlines()[1:]\n",
    "    arr = np.loadtxt(f, delimiter=',')\n",
    "data = np.array(arr)\n",
    "X = data[0:len(data), 0:(len(data) - 2)]"
   ]
  },
  {
   "cell_type": "code",
   "execution_count": 33,
   "id": "481f43c0",
   "metadata": {},
   "outputs": [
    {
     "name": "stdout",
     "output_type": "stream",
     "text": [
      "[[ 7.4   0.7   0.   ...  9.4   1.    5.  ]\n",
      " [ 7.8   0.88  0.   ...  9.8   1.    5.  ]\n",
      " [ 7.8   0.76  0.04 ...  9.8   1.    5.  ]\n",
      " ...\n",
      " [ 6.5   0.24  0.19 ...  9.4   0.    6.  ]\n",
      " [ 5.5   0.29  0.3  ... 12.8   0.    7.  ]\n",
      " [ 6.    0.21  0.38 ... 11.8   0.    6.  ]]\n"
     ]
    }
   ],
   "source": [
    "print(X)"
   ]
  },
  {
   "cell_type": "code",
   "execution_count": 29,
   "id": "e1d51002",
   "metadata": {},
   "outputs": [
    {
     "data": {
      "text/plain": [
       "0.88"
      ]
     },
     "execution_count": 29,
     "metadata": {},
     "output_type": "execute_result"
    }
   ],
   "source": [
    "X"
   ]
  },
  {
   "cell_type": "code",
   "execution_count": null,
   "id": "e9d36d03",
   "metadata": {},
   "outputs": [],
   "source": []
  },
  {
   "cell_type": "code",
   "execution_count": null,
   "id": "23a4697c",
   "metadata": {},
   "outputs": [],
   "source": []
  },
  {
   "cell_type": "code",
   "execution_count": 23,
   "id": "de3cdba1",
   "metadata": {},
   "outputs": [
    {
     "data": {
      "text/plain": [
       "matrix([[ 7.4 ,  0.7 ,  0.  , ...,  9.4 ,  1.  ,  5.  ],\n",
       "        [ 7.8 ,  0.88,  0.  , ...,  9.8 ,  1.  ,  5.  ],\n",
       "        [ 7.8 ,  0.76,  0.04, ...,  9.8 ,  1.  ,  5.  ],\n",
       "        ...,\n",
       "        [ 6.5 ,  0.24,  0.19, ...,  9.4 ,  0.  ,  6.  ],\n",
       "        [ 5.5 ,  0.29,  0.3 , ..., 12.8 ,  0.  ,  7.  ],\n",
       "        [ 6.  ,  0.21,  0.38, ..., 11.8 ,  0.  ,  6.  ]])"
      ]
     },
     "execution_count": 23,
     "metadata": {},
     "output_type": "execute_result"
    }
   ],
   "source": [
    "X"
   ]
  },
  {
   "cell_type": "code",
   "execution_count": 22,
   "id": "f1d8ca80",
   "metadata": {},
   "outputs": [
    {
     "data": {
      "text/plain": [
       "matrix([[ 7.4 ,  0.7 ,  0.  , ...,  9.4 ,  1.  ,  5.  ],\n",
       "        [ 7.8 ,  0.88,  0.  , ...,  9.8 ,  1.  ,  5.  ],\n",
       "        [ 7.8 ,  0.76,  0.04, ...,  9.8 ,  1.  ,  5.  ],\n",
       "        ...,\n",
       "        [ 6.5 ,  0.24,  0.19, ...,  9.4 ,  0.  ,  6.  ],\n",
       "        [ 5.5 ,  0.29,  0.3 , ..., 12.8 ,  0.  ,  7.  ],\n",
       "        [ 6.  ,  0.21,  0.38, ..., 11.8 ,  0.  ,  6.  ]])"
      ]
     },
     "execution_count": 22,
     "metadata": {},
     "output_type": "execute_result"
    }
   ],
   "source": [
    "X"
   ]
  },
  {
   "cell_type": "code",
   "execution_count": 31,
   "id": "b7db7a3c",
   "metadata": {},
   "outputs": [
    {
     "name": "stdout",
     "output_type": "stream",
     "text": [
      "0.88\n"
     ]
    }
   ],
   "source": [
    "print(X)"
   ]
  },
  {
   "cell_type": "code",
   "execution_count": null,
   "id": "ff66a329",
   "metadata": {},
   "outputs": [],
   "source": []
  },
  {
   "cell_type": "code",
   "execution_count": null,
   "id": "c3c0be3c",
   "metadata": {},
   "outputs": [],
   "source": []
  }
 ],
 "metadata": {},
 "nbformat": 4,
 "nbformat_minor": 5
}
