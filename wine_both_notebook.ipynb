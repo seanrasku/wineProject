{
 "cells": [
  {
   "cell_type": "code",
   "execution_count": 1,
   "id": "e86c0958",
   "metadata": {},
   "outputs": [],
   "source": [
    "import pandas as pd\n",
    "import seaborn as sns\n",
    "import matplotlib.pyplot as plt\n",
    "from sklearn.linear_model import LogisticRegression\n",
    "from sklearn.ensemble import RandomForestClassifier\n",
    "from sklearn.svm import SVC\n",
    "from sklearn import svm\n",
    "from sklearn.neural_network import MLPClassifier\n",
    "from sklearn.metrics import confusion_matrix, classification_report\n",
    "from sklearn.preprocessing import StandardScaler, LabelEncoder\n",
    "from sklearn.model_selection import train_test_split\n",
    "%matplotlib inline\n"
   ]
  },
  {
   "cell_type": "code",
   "execution_count": 2,
   "id": "3f03a472",
   "metadata": {},
   "outputs": [],
   "source": [
    "\n",
    "wine = pd.read_csv('winequality.csv', sep = ',')"
   ]
  },
  {
   "cell_type": "code",
   "execution_count": 3,
   "id": "e0eef8d5",
   "metadata": {},
   "outputs": [
    {
     "data": {
      "text/html": [
       "<div>\n",
       "<style scoped>\n",
       "    .dataframe tbody tr th:only-of-type {\n",
       "        vertical-align: middle;\n",
       "    }\n",
       "\n",
       "    .dataframe tbody tr th {\n",
       "        vertical-align: top;\n",
       "    }\n",
       "\n",
       "    .dataframe thead th {\n",
       "        text-align: right;\n",
       "    }\n",
       "</style>\n",
       "<table border=\"1\" class=\"dataframe\">\n",
       "  <thead>\n",
       "    <tr style=\"text-align: right;\">\n",
       "      <th></th>\n",
       "      <th>fixed acidity</th>\n",
       "      <th>volatile acidity</th>\n",
       "      <th>citric acid</th>\n",
       "      <th>residual sugar</th>\n",
       "      <th>chlorides</th>\n",
       "      <th>free sulfur dioxide</th>\n",
       "      <th>total sulfur dioxide</th>\n",
       "      <th>density</th>\n",
       "      <th>pH</th>\n",
       "      <th>sulphates</th>\n",
       "      <th>alcohol</th>\n",
       "      <th>color</th>\n",
       "      <th>quality</th>\n",
       "    </tr>\n",
       "  </thead>\n",
       "  <tbody>\n",
       "    <tr>\n",
       "      <th>0</th>\n",
       "      <td>7.4</td>\n",
       "      <td>0.70</td>\n",
       "      <td>0.00</td>\n",
       "      <td>1.9</td>\n",
       "      <td>0.076</td>\n",
       "      <td>11.0</td>\n",
       "      <td>34.0</td>\n",
       "      <td>0.9978</td>\n",
       "      <td>3.51</td>\n",
       "      <td>0.56</td>\n",
       "      <td>9.4</td>\n",
       "      <td>1</td>\n",
       "      <td>5</td>\n",
       "    </tr>\n",
       "    <tr>\n",
       "      <th>1</th>\n",
       "      <td>7.8</td>\n",
       "      <td>0.88</td>\n",
       "      <td>0.00</td>\n",
       "      <td>2.6</td>\n",
       "      <td>0.098</td>\n",
       "      <td>25.0</td>\n",
       "      <td>67.0</td>\n",
       "      <td>0.9968</td>\n",
       "      <td>3.20</td>\n",
       "      <td>0.68</td>\n",
       "      <td>9.8</td>\n",
       "      <td>1</td>\n",
       "      <td>5</td>\n",
       "    </tr>\n",
       "    <tr>\n",
       "      <th>2</th>\n",
       "      <td>7.8</td>\n",
       "      <td>0.76</td>\n",
       "      <td>0.04</td>\n",
       "      <td>2.3</td>\n",
       "      <td>0.092</td>\n",
       "      <td>15.0</td>\n",
       "      <td>54.0</td>\n",
       "      <td>0.9970</td>\n",
       "      <td>3.26</td>\n",
       "      <td>0.65</td>\n",
       "      <td>9.8</td>\n",
       "      <td>1</td>\n",
       "      <td>5</td>\n",
       "    </tr>\n",
       "    <tr>\n",
       "      <th>3</th>\n",
       "      <td>11.2</td>\n",
       "      <td>0.28</td>\n",
       "      <td>0.56</td>\n",
       "      <td>1.9</td>\n",
       "      <td>0.075</td>\n",
       "      <td>17.0</td>\n",
       "      <td>60.0</td>\n",
       "      <td>0.9980</td>\n",
       "      <td>3.16</td>\n",
       "      <td>0.58</td>\n",
       "      <td>9.8</td>\n",
       "      <td>1</td>\n",
       "      <td>6</td>\n",
       "    </tr>\n",
       "    <tr>\n",
       "      <th>4</th>\n",
       "      <td>7.4</td>\n",
       "      <td>0.70</td>\n",
       "      <td>0.00</td>\n",
       "      <td>1.9</td>\n",
       "      <td>0.076</td>\n",
       "      <td>11.0</td>\n",
       "      <td>34.0</td>\n",
       "      <td>0.9978</td>\n",
       "      <td>3.51</td>\n",
       "      <td>0.56</td>\n",
       "      <td>9.4</td>\n",
       "      <td>1</td>\n",
       "      <td>5</td>\n",
       "    </tr>\n",
       "  </tbody>\n",
       "</table>\n",
       "</div>"
      ],
      "text/plain": [
       "   fixed acidity  volatile acidity  citric acid  residual sugar  chlorides  \\\n",
       "0            7.4              0.70         0.00             1.9      0.076   \n",
       "1            7.8              0.88         0.00             2.6      0.098   \n",
       "2            7.8              0.76         0.04             2.3      0.092   \n",
       "3           11.2              0.28         0.56             1.9      0.075   \n",
       "4            7.4              0.70         0.00             1.9      0.076   \n",
       "\n",
       "   free sulfur dioxide  total sulfur dioxide  density    pH  sulphates  \\\n",
       "0                 11.0                  34.0   0.9978  3.51       0.56   \n",
       "1                 25.0                  67.0   0.9968  3.20       0.68   \n",
       "2                 15.0                  54.0   0.9970  3.26       0.65   \n",
       "3                 17.0                  60.0   0.9980  3.16       0.58   \n",
       "4                 11.0                  34.0   0.9978  3.51       0.56   \n",
       "\n",
       "   alcohol  color  quality  \n",
       "0      9.4      1        5  \n",
       "1      9.8      1        5  \n",
       "2      9.8      1        5  \n",
       "3      9.8      1        6  \n",
       "4      9.4      1        5  "
      ]
     },
     "execution_count": 3,
     "metadata": {},
     "output_type": "execute_result"
    }
   ],
   "source": [
    "wine.head()"
   ]
  },
  {
   "cell_type": "code",
   "execution_count": 4,
   "id": "38dd69db",
   "metadata": {},
   "outputs": [
    {
     "name": "stdout",
     "output_type": "stream",
     "text": [
      "<class 'pandas.core.frame.DataFrame'>\n",
      "RangeIndex: 6497 entries, 0 to 6496\n",
      "Data columns (total 13 columns):\n",
      " #   Column                Non-Null Count  Dtype  \n",
      "---  ------                --------------  -----  \n",
      " 0   fixed acidity         6497 non-null   float64\n",
      " 1   volatile acidity      6497 non-null   float64\n",
      " 2   citric acid           6497 non-null   float64\n",
      " 3   residual sugar        6497 non-null   float64\n",
      " 4   chlorides             6497 non-null   float64\n",
      " 5   free sulfur dioxide   6497 non-null   float64\n",
      " 6   total sulfur dioxide  6497 non-null   float64\n",
      " 7   density               6497 non-null   float64\n",
      " 8   pH                    6497 non-null   float64\n",
      " 9   sulphates             6497 non-null   float64\n",
      " 10  alcohol               6497 non-null   float64\n",
      " 11  color                 6497 non-null   int64  \n",
      " 12  quality               6497 non-null   int64  \n",
      "dtypes: float64(11), int64(2)\n",
      "memory usage: 660.0 KB\n"
     ]
    }
   ],
   "source": [
    "wine.info()"
   ]
  },
  {
   "cell_type": "code",
   "execution_count": 5,
   "id": "9f711403",
   "metadata": {},
   "outputs": [
    {
     "data": {
      "text/plain": [
       "fixed acidity           0\n",
       "volatile acidity        0\n",
       "citric acid             0\n",
       "residual sugar          0\n",
       "chlorides               0\n",
       "free sulfur dioxide     0\n",
       "total sulfur dioxide    0\n",
       "density                 0\n",
       "pH                      0\n",
       "sulphates               0\n",
       "alcohol                 0\n",
       "color                   0\n",
       "quality                 0\n",
       "dtype: int64"
      ]
     },
     "execution_count": 5,
     "metadata": {},
     "output_type": "execute_result"
    }
   ],
   "source": [
    "wine.isnull().sum()"
   ]
  },
  {
   "cell_type": "code",
   "execution_count": 6,
   "id": "7eea235c",
   "metadata": {},
   "outputs": [
    {
     "data": {
      "text/plain": [
       "['Bad', 'good']\n",
       "Categories (2, object): ['Bad' < 'good']"
      ]
     },
     "execution_count": 6,
     "metadata": {},
     "output_type": "execute_result"
    }
   ],
   "source": [
    "#preprocessing Data\n",
    "#Grouping quality of wine\n",
    "bins =(1, 5, 10)\n",
    "groups  = ['Bad', 'good']\n",
    "wine['quality'] = pd.cut(wine['quality'], bins = bins, labels = groups)\n",
    "wine['quality'].unique()"
   ]
  },
  {
   "cell_type": "code",
   "execution_count": 7,
   "id": "36d5c062",
   "metadata": {},
   "outputs": [],
   "source": [
    "label_quality = LabelEncoder()"
   ]
  },
  {
   "cell_type": "code",
   "execution_count": 8,
   "id": "f8f804a6",
   "metadata": {},
   "outputs": [],
   "source": [
    "wine['quality'] = label_quality.fit_transform(wine['quality'])"
   ]
  },
  {
   "cell_type": "code",
   "execution_count": 9,
   "id": "95c6e07d",
   "metadata": {},
   "outputs": [
    {
     "data": {
      "text/html": [
       "<div>\n",
       "<style scoped>\n",
       "    .dataframe tbody tr th:only-of-type {\n",
       "        vertical-align: middle;\n",
       "    }\n",
       "\n",
       "    .dataframe tbody tr th {\n",
       "        vertical-align: top;\n",
       "    }\n",
       "\n",
       "    .dataframe thead th {\n",
       "        text-align: right;\n",
       "    }\n",
       "</style>\n",
       "<table border=\"1\" class=\"dataframe\">\n",
       "  <thead>\n",
       "    <tr style=\"text-align: right;\">\n",
       "      <th></th>\n",
       "      <th>fixed acidity</th>\n",
       "      <th>volatile acidity</th>\n",
       "      <th>citric acid</th>\n",
       "      <th>residual sugar</th>\n",
       "      <th>chlorides</th>\n",
       "      <th>free sulfur dioxide</th>\n",
       "      <th>total sulfur dioxide</th>\n",
       "      <th>density</th>\n",
       "      <th>pH</th>\n",
       "      <th>sulphates</th>\n",
       "      <th>alcohol</th>\n",
       "      <th>color</th>\n",
       "      <th>quality</th>\n",
       "    </tr>\n",
       "  </thead>\n",
       "  <tbody>\n",
       "    <tr>\n",
       "      <th>0</th>\n",
       "      <td>7.4</td>\n",
       "      <td>0.700</td>\n",
       "      <td>0.00</td>\n",
       "      <td>1.9</td>\n",
       "      <td>0.076</td>\n",
       "      <td>11.0</td>\n",
       "      <td>34.0</td>\n",
       "      <td>0.9978</td>\n",
       "      <td>3.51</td>\n",
       "      <td>0.56</td>\n",
       "      <td>9.4</td>\n",
       "      <td>1</td>\n",
       "      <td>0</td>\n",
       "    </tr>\n",
       "    <tr>\n",
       "      <th>1</th>\n",
       "      <td>7.8</td>\n",
       "      <td>0.880</td>\n",
       "      <td>0.00</td>\n",
       "      <td>2.6</td>\n",
       "      <td>0.098</td>\n",
       "      <td>25.0</td>\n",
       "      <td>67.0</td>\n",
       "      <td>0.9968</td>\n",
       "      <td>3.20</td>\n",
       "      <td>0.68</td>\n",
       "      <td>9.8</td>\n",
       "      <td>1</td>\n",
       "      <td>0</td>\n",
       "    </tr>\n",
       "    <tr>\n",
       "      <th>2</th>\n",
       "      <td>7.8</td>\n",
       "      <td>0.760</td>\n",
       "      <td>0.04</td>\n",
       "      <td>2.3</td>\n",
       "      <td>0.092</td>\n",
       "      <td>15.0</td>\n",
       "      <td>54.0</td>\n",
       "      <td>0.9970</td>\n",
       "      <td>3.26</td>\n",
       "      <td>0.65</td>\n",
       "      <td>9.8</td>\n",
       "      <td>1</td>\n",
       "      <td>0</td>\n",
       "    </tr>\n",
       "    <tr>\n",
       "      <th>3</th>\n",
       "      <td>11.2</td>\n",
       "      <td>0.280</td>\n",
       "      <td>0.56</td>\n",
       "      <td>1.9</td>\n",
       "      <td>0.075</td>\n",
       "      <td>17.0</td>\n",
       "      <td>60.0</td>\n",
       "      <td>0.9980</td>\n",
       "      <td>3.16</td>\n",
       "      <td>0.58</td>\n",
       "      <td>9.8</td>\n",
       "      <td>1</td>\n",
       "      <td>1</td>\n",
       "    </tr>\n",
       "    <tr>\n",
       "      <th>4</th>\n",
       "      <td>7.4</td>\n",
       "      <td>0.700</td>\n",
       "      <td>0.00</td>\n",
       "      <td>1.9</td>\n",
       "      <td>0.076</td>\n",
       "      <td>11.0</td>\n",
       "      <td>34.0</td>\n",
       "      <td>0.9978</td>\n",
       "      <td>3.51</td>\n",
       "      <td>0.56</td>\n",
       "      <td>9.4</td>\n",
       "      <td>1</td>\n",
       "      <td>0</td>\n",
       "    </tr>\n",
       "    <tr>\n",
       "      <th>5</th>\n",
       "      <td>7.4</td>\n",
       "      <td>0.660</td>\n",
       "      <td>0.00</td>\n",
       "      <td>1.8</td>\n",
       "      <td>0.075</td>\n",
       "      <td>13.0</td>\n",
       "      <td>40.0</td>\n",
       "      <td>0.9978</td>\n",
       "      <td>3.51</td>\n",
       "      <td>0.56</td>\n",
       "      <td>9.4</td>\n",
       "      <td>1</td>\n",
       "      <td>0</td>\n",
       "    </tr>\n",
       "    <tr>\n",
       "      <th>6</th>\n",
       "      <td>7.9</td>\n",
       "      <td>0.600</td>\n",
       "      <td>0.06</td>\n",
       "      <td>1.6</td>\n",
       "      <td>0.069</td>\n",
       "      <td>15.0</td>\n",
       "      <td>59.0</td>\n",
       "      <td>0.9964</td>\n",
       "      <td>3.30</td>\n",
       "      <td>0.46</td>\n",
       "      <td>9.4</td>\n",
       "      <td>1</td>\n",
       "      <td>0</td>\n",
       "    </tr>\n",
       "    <tr>\n",
       "      <th>7</th>\n",
       "      <td>7.3</td>\n",
       "      <td>0.650</td>\n",
       "      <td>0.00</td>\n",
       "      <td>1.2</td>\n",
       "      <td>0.065</td>\n",
       "      <td>15.0</td>\n",
       "      <td>21.0</td>\n",
       "      <td>0.9946</td>\n",
       "      <td>3.39</td>\n",
       "      <td>0.47</td>\n",
       "      <td>10.0</td>\n",
       "      <td>1</td>\n",
       "      <td>1</td>\n",
       "    </tr>\n",
       "    <tr>\n",
       "      <th>8</th>\n",
       "      <td>7.8</td>\n",
       "      <td>0.580</td>\n",
       "      <td>0.02</td>\n",
       "      <td>2.0</td>\n",
       "      <td>0.073</td>\n",
       "      <td>9.0</td>\n",
       "      <td>18.0</td>\n",
       "      <td>0.9968</td>\n",
       "      <td>3.36</td>\n",
       "      <td>0.57</td>\n",
       "      <td>9.5</td>\n",
       "      <td>1</td>\n",
       "      <td>1</td>\n",
       "    </tr>\n",
       "    <tr>\n",
       "      <th>9</th>\n",
       "      <td>7.5</td>\n",
       "      <td>0.500</td>\n",
       "      <td>0.36</td>\n",
       "      <td>6.1</td>\n",
       "      <td>0.071</td>\n",
       "      <td>17.0</td>\n",
       "      <td>102.0</td>\n",
       "      <td>0.9978</td>\n",
       "      <td>3.35</td>\n",
       "      <td>0.80</td>\n",
       "      <td>10.5</td>\n",
       "      <td>1</td>\n",
       "      <td>0</td>\n",
       "    </tr>\n",
       "    <tr>\n",
       "      <th>10</th>\n",
       "      <td>6.7</td>\n",
       "      <td>0.580</td>\n",
       "      <td>0.08</td>\n",
       "      <td>1.8</td>\n",
       "      <td>0.097</td>\n",
       "      <td>15.0</td>\n",
       "      <td>65.0</td>\n",
       "      <td>0.9959</td>\n",
       "      <td>3.28</td>\n",
       "      <td>0.54</td>\n",
       "      <td>9.2</td>\n",
       "      <td>1</td>\n",
       "      <td>0</td>\n",
       "    </tr>\n",
       "    <tr>\n",
       "      <th>11</th>\n",
       "      <td>7.5</td>\n",
       "      <td>0.500</td>\n",
       "      <td>0.36</td>\n",
       "      <td>6.1</td>\n",
       "      <td>0.071</td>\n",
       "      <td>17.0</td>\n",
       "      <td>102.0</td>\n",
       "      <td>0.9978</td>\n",
       "      <td>3.35</td>\n",
       "      <td>0.80</td>\n",
       "      <td>10.5</td>\n",
       "      <td>1</td>\n",
       "      <td>0</td>\n",
       "    </tr>\n",
       "    <tr>\n",
       "      <th>12</th>\n",
       "      <td>5.6</td>\n",
       "      <td>0.615</td>\n",
       "      <td>0.00</td>\n",
       "      <td>1.6</td>\n",
       "      <td>0.089</td>\n",
       "      <td>16.0</td>\n",
       "      <td>59.0</td>\n",
       "      <td>0.9943</td>\n",
       "      <td>3.58</td>\n",
       "      <td>0.52</td>\n",
       "      <td>9.9</td>\n",
       "      <td>1</td>\n",
       "      <td>0</td>\n",
       "    </tr>\n",
       "    <tr>\n",
       "      <th>13</th>\n",
       "      <td>7.8</td>\n",
       "      <td>0.610</td>\n",
       "      <td>0.29</td>\n",
       "      <td>1.6</td>\n",
       "      <td>0.114</td>\n",
       "      <td>9.0</td>\n",
       "      <td>29.0</td>\n",
       "      <td>0.9974</td>\n",
       "      <td>3.26</td>\n",
       "      <td>1.56</td>\n",
       "      <td>9.1</td>\n",
       "      <td>1</td>\n",
       "      <td>0</td>\n",
       "    </tr>\n",
       "    <tr>\n",
       "      <th>14</th>\n",
       "      <td>8.9</td>\n",
       "      <td>0.620</td>\n",
       "      <td>0.18</td>\n",
       "      <td>3.8</td>\n",
       "      <td>0.176</td>\n",
       "      <td>52.0</td>\n",
       "      <td>145.0</td>\n",
       "      <td>0.9986</td>\n",
       "      <td>3.16</td>\n",
       "      <td>0.88</td>\n",
       "      <td>9.2</td>\n",
       "      <td>1</td>\n",
       "      <td>0</td>\n",
       "    </tr>\n",
       "    <tr>\n",
       "      <th>15</th>\n",
       "      <td>8.9</td>\n",
       "      <td>0.620</td>\n",
       "      <td>0.19</td>\n",
       "      <td>3.9</td>\n",
       "      <td>0.170</td>\n",
       "      <td>51.0</td>\n",
       "      <td>148.0</td>\n",
       "      <td>0.9986</td>\n",
       "      <td>3.17</td>\n",
       "      <td>0.93</td>\n",
       "      <td>9.2</td>\n",
       "      <td>1</td>\n",
       "      <td>0</td>\n",
       "    </tr>\n",
       "    <tr>\n",
       "      <th>16</th>\n",
       "      <td>8.5</td>\n",
       "      <td>0.280</td>\n",
       "      <td>0.56</td>\n",
       "      <td>1.8</td>\n",
       "      <td>0.092</td>\n",
       "      <td>35.0</td>\n",
       "      <td>103.0</td>\n",
       "      <td>0.9969</td>\n",
       "      <td>3.30</td>\n",
       "      <td>0.75</td>\n",
       "      <td>10.5</td>\n",
       "      <td>1</td>\n",
       "      <td>1</td>\n",
       "    </tr>\n",
       "    <tr>\n",
       "      <th>17</th>\n",
       "      <td>8.1</td>\n",
       "      <td>0.560</td>\n",
       "      <td>0.28</td>\n",
       "      <td>1.7</td>\n",
       "      <td>0.368</td>\n",
       "      <td>16.0</td>\n",
       "      <td>56.0</td>\n",
       "      <td>0.9968</td>\n",
       "      <td>3.11</td>\n",
       "      <td>1.28</td>\n",
       "      <td>9.3</td>\n",
       "      <td>1</td>\n",
       "      <td>0</td>\n",
       "    </tr>\n",
       "    <tr>\n",
       "      <th>18</th>\n",
       "      <td>7.4</td>\n",
       "      <td>0.590</td>\n",
       "      <td>0.08</td>\n",
       "      <td>4.4</td>\n",
       "      <td>0.086</td>\n",
       "      <td>6.0</td>\n",
       "      <td>29.0</td>\n",
       "      <td>0.9974</td>\n",
       "      <td>3.38</td>\n",
       "      <td>0.50</td>\n",
       "      <td>9.0</td>\n",
       "      <td>1</td>\n",
       "      <td>0</td>\n",
       "    </tr>\n",
       "    <tr>\n",
       "      <th>19</th>\n",
       "      <td>7.9</td>\n",
       "      <td>0.320</td>\n",
       "      <td>0.51</td>\n",
       "      <td>1.8</td>\n",
       "      <td>0.341</td>\n",
       "      <td>17.0</td>\n",
       "      <td>56.0</td>\n",
       "      <td>0.9969</td>\n",
       "      <td>3.04</td>\n",
       "      <td>1.08</td>\n",
       "      <td>9.2</td>\n",
       "      <td>1</td>\n",
       "      <td>1</td>\n",
       "    </tr>\n",
       "  </tbody>\n",
       "</table>\n",
       "</div>"
      ],
      "text/plain": [
       "    fixed acidity  volatile acidity  citric acid  residual sugar  chlorides  \\\n",
       "0             7.4             0.700         0.00             1.9      0.076   \n",
       "1             7.8             0.880         0.00             2.6      0.098   \n",
       "2             7.8             0.760         0.04             2.3      0.092   \n",
       "3            11.2             0.280         0.56             1.9      0.075   \n",
       "4             7.4             0.700         0.00             1.9      0.076   \n",
       "5             7.4             0.660         0.00             1.8      0.075   \n",
       "6             7.9             0.600         0.06             1.6      0.069   \n",
       "7             7.3             0.650         0.00             1.2      0.065   \n",
       "8             7.8             0.580         0.02             2.0      0.073   \n",
       "9             7.5             0.500         0.36             6.1      0.071   \n",
       "10            6.7             0.580         0.08             1.8      0.097   \n",
       "11            7.5             0.500         0.36             6.1      0.071   \n",
       "12            5.6             0.615         0.00             1.6      0.089   \n",
       "13            7.8             0.610         0.29             1.6      0.114   \n",
       "14            8.9             0.620         0.18             3.8      0.176   \n",
       "15            8.9             0.620         0.19             3.9      0.170   \n",
       "16            8.5             0.280         0.56             1.8      0.092   \n",
       "17            8.1             0.560         0.28             1.7      0.368   \n",
       "18            7.4             0.590         0.08             4.4      0.086   \n",
       "19            7.9             0.320         0.51             1.8      0.341   \n",
       "\n",
       "    free sulfur dioxide  total sulfur dioxide  density    pH  sulphates  \\\n",
       "0                  11.0                  34.0   0.9978  3.51       0.56   \n",
       "1                  25.0                  67.0   0.9968  3.20       0.68   \n",
       "2                  15.0                  54.0   0.9970  3.26       0.65   \n",
       "3                  17.0                  60.0   0.9980  3.16       0.58   \n",
       "4                  11.0                  34.0   0.9978  3.51       0.56   \n",
       "5                  13.0                  40.0   0.9978  3.51       0.56   \n",
       "6                  15.0                  59.0   0.9964  3.30       0.46   \n",
       "7                  15.0                  21.0   0.9946  3.39       0.47   \n",
       "8                   9.0                  18.0   0.9968  3.36       0.57   \n",
       "9                  17.0                 102.0   0.9978  3.35       0.80   \n",
       "10                 15.0                  65.0   0.9959  3.28       0.54   \n",
       "11                 17.0                 102.0   0.9978  3.35       0.80   \n",
       "12                 16.0                  59.0   0.9943  3.58       0.52   \n",
       "13                  9.0                  29.0   0.9974  3.26       1.56   \n",
       "14                 52.0                 145.0   0.9986  3.16       0.88   \n",
       "15                 51.0                 148.0   0.9986  3.17       0.93   \n",
       "16                 35.0                 103.0   0.9969  3.30       0.75   \n",
       "17                 16.0                  56.0   0.9968  3.11       1.28   \n",
       "18                  6.0                  29.0   0.9974  3.38       0.50   \n",
       "19                 17.0                  56.0   0.9969  3.04       1.08   \n",
       "\n",
       "    alcohol  color  quality  \n",
       "0       9.4      1        0  \n",
       "1       9.8      1        0  \n",
       "2       9.8      1        0  \n",
       "3       9.8      1        1  \n",
       "4       9.4      1        0  \n",
       "5       9.4      1        0  \n",
       "6       9.4      1        0  \n",
       "7      10.0      1        1  \n",
       "8       9.5      1        1  \n",
       "9      10.5      1        0  \n",
       "10      9.2      1        0  \n",
       "11     10.5      1        0  \n",
       "12      9.9      1        0  \n",
       "13      9.1      1        0  \n",
       "14      9.2      1        0  \n",
       "15      9.2      1        0  \n",
       "16     10.5      1        1  \n",
       "17      9.3      1        0  \n",
       "18      9.0      1        0  \n",
       "19      9.2      1        1  "
      ]
     },
     "execution_count": 9,
     "metadata": {},
     "output_type": "execute_result"
    }
   ],
   "source": [
    "wine.head(20)"
   ]
  },
  {
   "cell_type": "code",
   "execution_count": 10,
   "id": "ccfa9d1e",
   "metadata": {},
   "outputs": [
    {
     "data": {
      "text/plain": [
       "1    4113\n",
       "0    2384\n",
       "Name: quality, dtype: int64"
      ]
     },
     "execution_count": 10,
     "metadata": {},
     "output_type": "execute_result"
    }
   ],
   "source": [
    "wine['quality'].value_counts()"
   ]
  },
  {
   "cell_type": "code",
   "execution_count": 11,
   "id": "f41046d8",
   "metadata": {
    "scrolled": true
   },
   "outputs": [
    {
     "name": "stderr",
     "output_type": "stream",
     "text": [
      "/home/paulm/.local/lib/python3.9/site-packages/seaborn/_decorators.py:36: FutureWarning: Pass the following variable as a keyword arg: x. From version 0.12, the only valid positional argument will be `data`, and passing other arguments without an explicit keyword will result in an error or misinterpretation.\n",
      "  warnings.warn(\n"
     ]
    },
    {
     "data": {
      "text/plain": [
       "<AxesSubplot:xlabel='quality', ylabel='count'>"
      ]
     },
     "execution_count": 11,
     "metadata": {},
     "output_type": "execute_result"
    },
    {
     "data": {
      "image/png": "[encoded data removed]",
      "text/plain": [
       "<Figure size 432x288 with 1 Axes>"
      ]
     },
     "metadata": {
      "needs_background": "light"
     },
     "output_type": "display_data"
    }
   ],
   "source": [
    "sns.countplot(wine['quality'])"
   ]
  },
  {
   "cell_type": "code",
   "execution_count": 13,
   "id": "36ff5eed",
   "metadata": {},
   "outputs": [
    {
     "data": {
      "text/plain": [
       "<function matplotlib.pyplot.show(close=None, block=None)>"
      ]
     },
     "execution_count": 13,
     "metadata": {},
     "output_type": "execute_result"
    },
    {
     "data": {
      "image/png": "[encoded data removed]",
      "text/plain": [
       "<Figure size 432x288 with 1 Axes>"
      ]
     },
     "metadata": {
      "needs_background": "light"
     },
     "output_type": "display_data"
    }
   ],
   "source": [
    "winehist = pd.read_csv('winequality.csv', sep = ',')\n",
    "\n",
    "\n",
    "# Create a visualization\n",
    "sns.countplot(x = \"quality\", data = winehist)\n",
    "plt.show"
   ]
  },
  {
   "cell_type": "code",
   "execution_count": 14,
   "id": "f0609617",
   "metadata": {},
   "outputs": [],
   "source": [
    "#Separating the dataset quality from features\n",
    "X = wine.drop('quality', axis = 1)\n",
    "y = wine['quality']"
   ]
  },
  {
   "cell_type": "code",
   "execution_count": 15,
   "id": "feb6ea3e",
   "metadata": {},
   "outputs": [],
   "source": [
    "# Applying Standard Scaler\n",
    "\n",
    "sc = StandardScaler()\n",
    "X= sc.fit_transform(X)\n",
    "#X_test = sc.transform(X_test)\n",
    "\n",
    "#X_train =sc.fit_transform(X_train)\n",
    "#X_validation = sc.transform(X_validation)"
   ]
  },
  {
   "cell_type": "code",
   "execution_count": 16,
   "id": "c0fb3b77",
   "metadata": {},
   "outputs": [],
   "source": [
    "#Train, test, validation splitting of data\n",
    "X_train, X_test, y_train, y_test = train_test_split(X, y, test_size = 0.2, random_state = 0)\n",
    "\n",
    "X_train, X_validation, y_train, y_validation = train_test_split(X_train, y_train,  test_size=0.2, random_state=0)"
   ]
  },
  {
   "cell_type": "code",
   "execution_count": 17,
   "id": "006e4578",
   "metadata": {
    "scrolled": true
   },
   "outputs": [
    {
     "data": {
      "text/plain": [
       "array([[-0.70607349, -0.30169391, -0.60997343,  1.84064731, -0.54334485,\n",
       "        -0.36766435, -0.29627236,  0.19455641, -0.86145853, -1.016626  ,\n",
       "         0.09072393, -0.57136659],\n",
       "       [-0.47465165, -0.6054167 , -0.12823371,  1.58841068, -0.11515151,\n",
       "        -0.70572997,  0.48224751,  1.18507075,  0.94230643, -0.27735097,\n",
       "        -0.91546416, -0.57136659],\n",
       "       [-0.70607349, -0.24094936, -0.54115347,  0.24314868, -0.45770618,\n",
       "         0.42115542,  0.44686024,  0.10117459,  0.00932455, -0.41176462,\n",
       "        -0.83161516, -0.57136659],\n",
       "       [-0.39751104, -0.24094936,  1.24816549,  1.39923321, -0.31497507,\n",
       "         0.42115542,  0.19914937,  0.90159022, -1.1102537 , -0.00852369,\n",
       "        -1.3347092 , -0.57136659],\n",
       "       [-0.16608919, -1.39509594,  0.00940621, -0.1772457 ,  0.0275796 ,\n",
       "         1.60438508,  0.49994114,  0.3012785 ,  2.06188468, -0.61338508,\n",
       "        -0.91546416, -0.57136659],\n",
       "       [ 0.29675449, -0.1802048 ,  1.17934553, -0.31387387, -0.34352129,\n",
       "        -0.19863155,  0.26992391, -1.16615015, -0.86145853,  0.9323718 ,\n",
       "         1.9354021 , -0.57136659],\n",
       "       [-1.55462025, -0.1802048 ,  0.28468605, -0.0721471 , -0.71462218,\n",
       "         0.87190958,  0.51763477, -1.66640991, -0.48826578, -1.48707375,\n",
       "         1.60000607, -0.57136659],\n",
       "       [-0.16608919,  3.85930824, -1.91755268, -0.72375839,  0.88396626,\n",
       "        -1.04379559, -0.86246863,  0.31795382,  0.81790884,  0.46192405,\n",
       "        -0.91546416,  1.75018984],\n",
       "       [-0.86035472, -0.42318303,  0.76642577,  0.43232615, -0.20079018,\n",
       "         1.9424507 ,  2.25161084,  0.33462915, -0.61266336, -0.41176462,\n",
       "        -1.2508602 , -0.57136659],\n",
       "       [ 0.75959818, -0.72690581,  1.17934553,  0.87374024, -0.54334485,\n",
       "         1.26631947,  0.67687747,  0.13452524, -1.23465128, -1.35266011,\n",
       "         0.09072393, -0.57136659]])"
      ]
     },
     "execution_count": 17,
     "metadata": {},
     "output_type": "execute_result"
    }
   ],
   "source": [
    "X_train[:10]"
   ]
  },
  {
   "cell_type": "code",
   "execution_count": 18,
   "id": "bac6a803",
   "metadata": {},
   "outputs": [],
   "source": [
    "# Random Forest Classifer\n",
    "rfc = RandomForestClassifier(n_estimators = 300)\n",
    "rfc.fit(X_train, y_train)\n",
    "pred_rfc = rfc.predict(X_test)\n"
   ]
  },
  {
   "cell_type": "code",
   "execution_count": 19,
   "id": "a97304f3",
   "metadata": {},
   "outputs": [
    {
     "data": {
      "text/plain": [
       "array([1, 1, 1, 0, 1, 1, 1, 1, 1, 1, 1, 1, 1, 0, 1, 1, 1, 0, 1, 1])"
      ]
     },
     "execution_count": 19,
     "metadata": {},
     "output_type": "execute_result"
    }
   ],
   "source": [
    "pred_rfc[:20]"
   ]
  },
  {
   "cell_type": "code",
   "execution_count": 20,
   "id": "68420c02",
   "metadata": {},
   "outputs": [
    {
     "data": {
      "text/plain": [
       "array([[-0.70607349, -0.96988404, -0.54115347, -0.42948232, -0.08660529,\n",
       "        -0.59304143,  0.05760031, -0.32237868, -0.67486215, -0.07573051,\n",
       "        -1.08316218, -0.57136659],\n",
       "       [-0.32037042, -1.21286227, -0.95407324, -0.8498767 , -0.25788263,\n",
       "        -0.02959874, -0.45551506, -1.01940728,  0.32031851,  0.05868313,\n",
       "         0.59381798, -0.57136659],\n",
       "       [ 0.06533265, -0.72690581,  1.24816549,  1.73554871, -0.20079018,\n",
       "         1.43535228,  1.29615464,  1.56860324,  0.13372214,  0.86516498,\n",
       "        -1.2508602 , -0.57136659],\n",
       "       [ 0.29675449,  2.00659925, -1.22935308, -0.82885698,  0.51286537,\n",
       "        -0.31132009,  0.92458834, -0.33238387, -1.0480549 , -0.14293733,\n",
       "        -0.99931317, -0.57136659],\n",
       "       [ 0.06533265, -0.78765037, -0.19705367, -0.80783726, -0.62898351,\n",
       "        -0.08594301,  0.03990667, -0.99939689,  0.50691489, -0.21014415,\n",
       "         0.42611996, -0.57136659],\n",
       "       [-0.16608919, -1.33435138, -0.88525328, -0.11418654, -0.02951285,\n",
       "        -0.19863155,  0.19914937,  0.20122655,  0.44471609, -0.81500554,\n",
       "        -0.91546416, -0.57136659],\n",
       "       [-0.32037042, -1.09137315, -0.95407324, -0.76579782, -0.28642885,\n",
       "         0.02674553, -0.03086786, -0.81263324,  0.32031851,  0.12588995,\n",
       "         0.25842195, -0.57136659],\n",
       "       [-0.24322981,  0.2450071 , -0.19705367,  1.72503885, -0.2293364 ,\n",
       "         1.2099752 ,  1.29615464,  1.04833308, -1.35904886,  0.46192405,\n",
       "        -0.83161516, -0.57136659],\n",
       "       [ 1.22244187,  0.670219  ,  0.76642577, -0.8498767 ,  0.56995782,\n",
       "        -1.04379559, -1.67637576,  0.27126291, -0.05287424,  1.47002637,\n",
       "        -0.2446721 ,  1.75018984],\n",
       "       [-0.70607349, -0.84839493, -0.40351355,  1.52535153, -0.28642885,\n",
       "         1.66072935,  0.48224751,  0.18788628,  0.25811972, -1.21824646,\n",
       "         0.25842195, -0.57136659]])"
      ]
     },
     "execution_count": 20,
     "metadata": {},
     "output_type": "execute_result"
    }
   ],
   "source": [
    "X_test[:10]"
   ]
  },
  {
   "cell_type": "code",
   "execution_count": 21,
   "id": "48d96d62",
   "metadata": {
    "scrolled": true
   },
   "outputs": [
    {
     "name": "stdout",
     "output_type": "stream",
     "text": [
      "              precision    recall  f1-score   support\n",
      "\n",
      "           0       0.77      0.72      0.74       468\n",
      "           1       0.85      0.88      0.86       832\n",
      "\n",
      "    accuracy                           0.82      1300\n",
      "   macro avg       0.81      0.80      0.80      1300\n",
      "weighted avg       0.82      0.82      0.82      1300\n",
      "\n"
     ]
    }
   ],
   "source": [
    "#RFC Model Results\n",
    "print(classification_report(y_test, pred_rfc))"
   ]
  },
  {
   "cell_type": "code",
   "execution_count": 22,
   "id": "2f892e0a",
   "metadata": {},
   "outputs": [
    {
     "name": "stdout",
     "output_type": "stream",
     "text": [
      "[[336 132]\n",
      " [101 731]]\n"
     ]
    }
   ],
   "source": [
    "print(confusion_matrix(y_test, pred_rfc))"
   ]
  },
  {
   "cell_type": "code",
   "execution_count": 23,
   "id": "ef03fbc3",
   "metadata": {},
   "outputs": [
    {
     "data": {
      "text/plain": [
       "0.8207692307692308"
      ]
     },
     "execution_count": 23,
     "metadata": {},
     "output_type": "execute_result"
    }
   ],
   "source": [
    "#accuracy for RFC\n",
    "\n",
    "from sklearn.metrics import accuracy_score\n",
    "rfc_acc = accuracy_score(y_test, pred_rfc)\n",
    "rfc_acc"
   ]
  },
  {
   "cell_type": "code",
   "execution_count": 24,
   "id": "ad6511b6",
   "metadata": {},
   "outputs": [],
   "source": [
    "#support vector Classifier\n",
    "\n",
    "clf = svm.SVC(C=47.15, gamma = 0.09)\n",
    "clf.fit(X_train, y_train)\n",
    "pred_clf = clf.predict(X_test)"
   ]
  },
  {
   "cell_type": "code",
   "execution_count": 25,
   "id": "6c577bde",
   "metadata": {},
   "outputs": [
    {
     "name": "stdout",
     "output_type": "stream",
     "text": [
      "              precision    recall  f1-score   support\n",
      "\n",
      "           0       0.69      0.65      0.67       468\n",
      "           1       0.81      0.84      0.82       832\n",
      "\n",
      "    accuracy                           0.77      1300\n",
      "   macro avg       0.75      0.74      0.75      1300\n",
      "weighted avg       0.77      0.77      0.77      1300\n",
      "\n",
      "[[304 164]\n",
      " [137 695]]\n"
     ]
    }
   ],
   "source": [
    "#SVM Model Results\n",
    "print(classification_report(y_test, pred_clf))\n",
    "print(confusion_matrix(y_test, pred_clf))"
   ]
  },
  {
   "cell_type": "code",
   "execution_count": 26,
   "id": "d87d63b9",
   "metadata": {},
   "outputs": [
    {
     "data": {
      "text/plain": [
       "0.7684615384615384"
      ]
     },
     "execution_count": 26,
     "metadata": {},
     "output_type": "execute_result"
    }
   ],
   "source": [
    "#score from test set for SVM\n",
    "clf.score(X_test, y_test)"
   ]
  },
  {
   "cell_type": "code",
   "execution_count": 27,
   "id": "b9b01ff9",
   "metadata": {},
   "outputs": [
    {
     "name": "stdout",
     "output_type": "stream",
     "text": [
      "              precision    recall  f1-score   support\n",
      "\n",
      "           0       0.67      0.70      0.69       353\n",
      "           1       0.84      0.82      0.83       687\n",
      "\n",
      "    accuracy                           0.78      1040\n",
      "   macro avg       0.76      0.76      0.76      1040\n",
      "weighted avg       0.79      0.78      0.78      1040\n",
      "\n",
      "[[248 105]\n",
      " [121 566]]\n"
     ]
    }
   ],
   "source": [
    "#Validation set for SVM\n",
    "pred_clf2 = clf.predict(X_validation)\n",
    "pred_clf2[:20]\n",
    "X_validation[:10]\n",
    "#let's see how our model performed\n",
    "print(classification_report(y_validation, pred_clf2))\n",
    "print(confusion_matrix(y_validation, pred_clf2))\n"
   ]
  },
  {
   "cell_type": "code",
   "execution_count": 28,
   "id": "7fb87257",
   "metadata": {},
   "outputs": [
    {
     "name": "stderr",
     "output_type": "stream",
     "text": [
      "/home/paulm/.local/lib/python3.9/site-packages/sklearn/neural_network/_multilayer_perceptron.py:614: ConvergenceWarning: Stochastic Optimizer: Maximum iterations (500) reached and the optimization hasn't converged yet.\n",
      "  warnings.warn(\n"
     ]
    }
   ],
   "source": [
    "# neural network\n",
    "\n",
    "mlpc = MLPClassifier(hidden_layer_sizes = (12,12,12), max_iter = 500)\n",
    "mlpc.fit(X_train, y_train)\n",
    "pred_mlpc = mlpc.predict(X_test)"
   ]
  },
  {
   "cell_type": "code",
   "execution_count": 29,
   "id": "1a2474cb",
   "metadata": {},
   "outputs": [
    {
     "name": "stdout",
     "output_type": "stream",
     "text": [
      "              precision    recall  f1-score   support\n",
      "\n",
      "           0       0.68      0.63      0.65       468\n",
      "           1       0.80      0.83      0.82       832\n",
      "\n",
      "    accuracy                           0.76      1300\n",
      "   macro avg       0.74      0.73      0.73      1300\n",
      "weighted avg       0.76      0.76      0.76      1300\n",
      "\n",
      "[[296 172]\n",
      " [141 691]]\n"
     ]
    }
   ],
   "source": [
    "print(classification_report(y_test, pred_mlpc))\n",
    "print(confusion_matrix(y_test, pred_mlpc))"
   ]
  },
  {
   "cell_type": "code",
   "execution_count": 30,
   "id": "2b144d9f",
   "metadata": {},
   "outputs": [
    {
     "data": {
      "text/plain": [
       "0.7592307692307693"
      ]
     },
     "execution_count": 30,
     "metadata": {},
     "output_type": "execute_result"
    }
   ],
   "source": [
    "#accuracy for neural network\n",
    "nn = accuracy_score(y_test, pred_mlpc)\n",
    "nn"
   ]
  },
  {
   "cell_type": "code",
   "execution_count": 31,
   "id": "cf8ead6d",
   "metadata": {
    "scrolled": true
   },
   "outputs": [
    {
     "name": "stdout",
     "output_type": "stream",
     "text": [
      "              precision    recall  f1-score   support\n",
      "\n",
      "           0       0.64      0.63      0.63       353\n",
      "           1       0.81      0.82      0.81       687\n",
      "\n",
      "    accuracy                           0.75      1040\n",
      "   macro avg       0.72      0.72      0.72      1040\n",
      "weighted avg       0.75      0.75      0.75      1040\n",
      "\n",
      "[[222 131]\n",
      " [127 560]]\n"
     ]
    }
   ],
   "source": [
    "#Validation set for NN\n",
    "nnv = mlpc.predict(X_validation)\n",
    "nnv[:20]\n",
    "X_validation[:10]\n",
    "\n",
    "#let's see how our model performed\n",
    "print(classification_report(y_validation, nnv))\n",
    "print(confusion_matrix(y_validation, nnv))"
   ]
  },
  {
   "cell_type": "code",
   "execution_count": 32,
   "id": "80eb827a",
   "metadata": {},
   "outputs": [
    {
     "data": {
      "text/plain": [
       "0.7519230769230769"
      ]
     },
     "execution_count": 32,
     "metadata": {},
     "output_type": "execute_result"
    }
   ],
   "source": [
    "#Accuracy of Validation Set for NN\n",
    "nnv2 = mlpc.score(X_validation, y_validation)\n",
    "nnv2"
   ]
  },
  {
   "cell_type": "code",
   "execution_count": 33,
   "id": "47b637a7",
   "metadata": {
    "scrolled": true
   },
   "outputs": [
    {
     "data": {
      "text/plain": [
       "array([1, 1, 0, 0, 1, 1, 1, 0, 0, 1])"
      ]
     },
     "execution_count": 33,
     "metadata": {},
     "output_type": "execute_result"
    }
   ],
   "source": [
    "#Logistic Regression\n",
    " \n",
    "X= X_train\n",
    "y= y_train\n",
    "\n",
    "clf2 = LogisticRegression(random_state=0,C = 1/5.61).fit(X, y)\n",
    "clf2.predict(X[:10, :])"
   ]
  },
  {
   "cell_type": "code",
   "execution_count": 34,
   "id": "c43ed868",
   "metadata": {},
   "outputs": [
    {
     "data": {
      "text/plain": [
       "array([[0.18223202, 0.81776798],\n",
       "       [0.44101949, 0.55898051],\n",
       "       [0.52322811, 0.47677189],\n",
       "       [0.58539363, 0.41460637],\n",
       "       [0.29579527, 0.70420473],\n",
       "       [0.05733958, 0.94266042],\n",
       "       [0.096495  , 0.903505  ],\n",
       "       [0.95177255, 0.04822745],\n",
       "       [0.69967763, 0.30032237],\n",
       "       [0.21617353, 0.78382647]])"
      ]
     },
     "execution_count": 34,
     "metadata": {},
     "output_type": "execute_result"
    }
   ],
   "source": [
    "clf2.predict_proba(X[:10, :])"
   ]
  },
  {
   "cell_type": "code",
   "execution_count": 35,
   "id": "07342d2c",
   "metadata": {},
   "outputs": [
    {
     "data": {
      "text/plain": [
       "0.7445273033437575"
      ]
     },
     "execution_count": 35,
     "metadata": {},
     "output_type": "execute_result"
    }
   ],
   "source": [
    "#Accuracy from training set\n",
    "logregscore = clf2.score(X, y)\n",
    "logregscore"
   ]
  },
  {
   "cell_type": "code",
   "execution_count": 36,
   "id": "777a86be",
   "metadata": {},
   "outputs": [
    {
     "data": {
      "text/plain": [
       "0.7361538461538462"
      ]
     },
     "execution_count": 36,
     "metadata": {},
     "output_type": "execute_result"
    }
   ],
   "source": [
    "#score from test set for LG\n",
    "clf2.score(X_test, y_test)"
   ]
  },
  {
   "cell_type": "code",
   "execution_count": 37,
   "id": "53bc6350",
   "metadata": {},
   "outputs": [
    {
     "data": {
      "text/plain": [
       "array([ 1.50129793,  0.23702556, -0.09297936, ..., -0.1730889 ,\n",
       "        1.98230939, -0.67339226])"
      ]
     },
     "execution_count": 37,
     "metadata": {},
     "output_type": "execute_result"
    }
   ],
   "source": [
    "clf2.decision_function(X)"
   ]
  },
  {
   "cell_type": "code",
   "execution_count": 38,
   "id": "d0dff37a",
   "metadata": {},
   "outputs": [
    {
     "data": {
      "text/plain": [
       "array([[0.18223202, 0.81776798],\n",
       "       [0.44101949, 0.55898051],\n",
       "       [0.52322811, 0.47677189],\n",
       "       [0.58539363, 0.41460637],\n",
       "       [0.29579527, 0.70420473],\n",
       "       [0.05733958, 0.94266042],\n",
       "       [0.096495  , 0.903505  ],\n",
       "       [0.95177255, 0.04822745],\n",
       "       [0.69967763, 0.30032237],\n",
       "       [0.21617353, 0.78382647]])"
      ]
     },
     "execution_count": 38,
     "metadata": {},
     "output_type": "execute_result"
    }
   ],
   "source": [
    "clf2.predict_proba(X[:10, :])"
   ]
  },
  {
   "cell_type": "code",
   "execution_count": 39,
   "id": "b504da25",
   "metadata": {},
   "outputs": [
    {
     "data": {
      "text/plain": [
       "array([ 1.50129793,  0.23702556, -0.09297936, ..., -0.1730889 ,\n",
       "        1.98230939, -0.67339226])"
      ]
     },
     "execution_count": 39,
     "metadata": {},
     "output_type": "execute_result"
    }
   ],
   "source": [
    "clf2.decision_function(X)"
   ]
  },
  {
   "cell_type": "code",
   "execution_count": 40,
   "id": "af063967",
   "metadata": {},
   "outputs": [
    {
     "name": "stdout",
     "output_type": "stream",
     "text": [
      "              precision    recall  f1-score   support\n",
      "\n",
      "           0       0.65      0.56      0.60       353\n",
      "           1       0.79      0.85      0.82       687\n",
      "\n",
      "    accuracy                           0.75      1040\n",
      "   macro avg       0.72      0.70      0.71      1040\n",
      "weighted avg       0.74      0.75      0.74      1040\n",
      "\n",
      "[[196 157]\n",
      " [105 582]]\n"
     ]
    }
   ],
   "source": [
    "\n",
    "#Validation set for logistic regression\n",
    "logreg = clf2.predict(X_validation)\n",
    "logreg[:20]\n",
    "X_validation[:10]\n",
    "\n",
    "#let's see how our model performed\n",
    "print(classification_report(y_validation, logreg))\n",
    "print(confusion_matrix(y_validation, logreg))"
   ]
  },
  {
   "cell_type": "code",
   "execution_count": 41,
   "id": "672d92ed",
   "metadata": {},
   "outputs": [
    {
     "data": {
      "text/plain": [
       "0.7480769230769231"
      ]
     },
     "execution_count": 41,
     "metadata": {},
     "output_type": "execute_result"
    }
   ],
   "source": [
    "#Accuracy of Validation Set\n",
    "logregscoreVal = clf2.score(X_validation, y_validation)\n",
    "logregscoreVal"
   ]
  },
  {
   "cell_type": "code",
   "execution_count": 45,
   "id": "c6981253",
   "metadata": {},
   "outputs": [
    {
     "data": {
      "text/plain": [
       "array([0])"
      ]
     },
     "execution_count": 45,
     "metadata": {},
     "output_type": "execute_result"
    }
   ],
   "source": [
    "# We picked a random set of numbers for the physiochemical, then tested data on SVM to see if wine is,  0 = bad, 1 = good.\n",
    "Xpick = [[8.2 ,1.28 ,0.42 , 5.0 ,0.075 ,15.0, 42.0, 0.9966, 3.56, 0.57, 1.0, 8.0,]]\n",
    "Xpick = sc.transform(Xpick)\n",
    "ypick = clf.predict(Xpick)\n",
    "ypick"
   ]
  },
  {
   "cell_type": "code",
   "execution_count": null,
   "id": "fc9843bb",
   "metadata": {},
   "outputs": [],
   "source": []
  },
  {
   "cell_type": "code",
   "execution_count": null,
   "id": "b270848a",
   "metadata": {},
   "outputs": [],
   "source": []
  }
 ],
 "metadata": {
  "kernelspec": {
   "display_name": "Python 3 (ipykernel)",
   "language": "python",
   "name": "python3"
  },
  "language_info": {
   "codemirror_mode": {
    "name": "ipython",
    "version": 3
   },
   "file_extension": ".py",
   "mimetype": "text/x-python",
   "name": "python",
   "nbconvert_exporter": "python",
   "pygments_lexer": "ipython3",
   "version": "3.9.7"
  }
 },
 "nbformat": 4,
 "nbformat_minor": 5
}
